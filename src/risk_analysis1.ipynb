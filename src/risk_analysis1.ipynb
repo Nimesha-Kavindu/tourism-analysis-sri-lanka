{
 "cells": [
  {
   "cell_type": "markdown",
   "metadata": {},
   "source": [
    "# Risk Analysis for Sri Lanka Tourism — Forecast Year 2025\n",
    "\n",
    "This notebook evaluates **downside and upside risks** to Sri Lanka's **tourism revenue** in **2025** using the historical dataset (2015–2024).\n",
    "We combine:\n",
    "- **Scenario analysis** (Pessimistic, Baseline, Optimistic)\n",
    "- **Monte Carlo simulation** (uncertainty in arrivals, average stay, and daily spend)\n",
    "- **Sensitivity analysis** using an OLS regression (which drivers matter most)\n",
    "- **Visualizations** and **conclusions** with policy-oriented **precautions**\n",
    "\n",
    "> **Data required:** `data/raw/tourism_data.csv` with columns  \n",
    "`year,month,tourist_arrivals,tourism_revenue_usd,avg_stay,avg_daily_spend`\n"
   ]
  },
  {
   "cell_type": "markdown",
   "metadata": {},
   "source": [
    "## 1) Setup & Data Loading"
   ]
  },
  {
   "cell_type": "code",
   "execution_count": 1,
   "metadata": {},
   "outputs": [
    {
     "data": {
      "text/html": [
       "<div>\n",
       "<style scoped>\n",
       "    .dataframe tbody tr th:only-of-type {\n",
       "        vertical-align: middle;\n",
       "    }\n",
       "\n",
       "    .dataframe tbody tr th {\n",
       "        vertical-align: top;\n",
       "    }\n",
       "\n",
       "    .dataframe thead th {\n",
       "        text-align: right;\n",
       "    }\n",
       "</style>\n",
       "<table border=\"1\" class=\"dataframe\">\n",
       "  <thead>\n",
       "    <tr style=\"text-align: right;\">\n",
       "      <th></th>\n",
       "      <th>year</th>\n",
       "      <th>month</th>\n",
       "      <th>tourist_arrivals</th>\n",
       "      <th>tourism_revenue_usd</th>\n",
       "      <th>avg_stay</th>\n",
       "      <th>avg_daily_spend</th>\n",
       "      <th>date</th>\n",
       "    </tr>\n",
       "  </thead>\n",
       "  <tbody>\n",
       "    <tr>\n",
       "      <th>0</th>\n",
       "      <td>2015</td>\n",
       "      <td>1</td>\n",
       "      <td>155000</td>\n",
       "      <td>255000000</td>\n",
       "      <td>10.0</td>\n",
       "      <td>165</td>\n",
       "      <td>2015-01-01</td>\n",
       "    </tr>\n",
       "    <tr>\n",
       "      <th>1</th>\n",
       "      <td>2015</td>\n",
       "      <td>2</td>\n",
       "      <td>160000</td>\n",
       "      <td>265000000</td>\n",
       "      <td>10.0</td>\n",
       "      <td>165</td>\n",
       "      <td>2015-02-01</td>\n",
       "    </tr>\n",
       "    <tr>\n",
       "      <th>2</th>\n",
       "      <td>2015</td>\n",
       "      <td>3</td>\n",
       "      <td>170000</td>\n",
       "      <td>280000000</td>\n",
       "      <td>10.2</td>\n",
       "      <td>166</td>\n",
       "      <td>2015-03-01</td>\n",
       "    </tr>\n",
       "    <tr>\n",
       "      <th>3</th>\n",
       "      <td>2015</td>\n",
       "      <td>4</td>\n",
       "      <td>140000</td>\n",
       "      <td>230000000</td>\n",
       "      <td>9.8</td>\n",
       "      <td>164</td>\n",
       "      <td>2015-04-01</td>\n",
       "    </tr>\n",
       "    <tr>\n",
       "      <th>4</th>\n",
       "      <td>2015</td>\n",
       "      <td>5</td>\n",
       "      <td>130000</td>\n",
       "      <td>210000000</td>\n",
       "      <td>9.5</td>\n",
       "      <td>163</td>\n",
       "      <td>2015-05-01</td>\n",
       "    </tr>\n",
       "  </tbody>\n",
       "</table>\n",
       "</div>"
      ],
      "text/plain": [
       "   year  month  tourist_arrivals  tourism_revenue_usd  avg_stay  \\\n",
       "0  2015      1            155000            255000000      10.0   \n",
       "1  2015      2            160000            265000000      10.0   \n",
       "2  2015      3            170000            280000000      10.2   \n",
       "3  2015      4            140000            230000000       9.8   \n",
       "4  2015      5            130000            210000000       9.5   \n",
       "\n",
       "   avg_daily_spend       date  \n",
       "0              165 2015-01-01  \n",
       "1              165 2015-02-01  \n",
       "2              166 2015-03-01  \n",
       "3              164 2015-04-01  \n",
       "4              163 2015-05-01  "
      ]
     },
     "metadata": {},
     "output_type": "display_data"
    },
    {
     "name": "stdout",
     "output_type": "stream",
     "text": [
      "Data range: 2015-01-01 to 2024-12-01\n"
     ]
    }
   ],
   "source": [
    "\n",
    "import pandas as pd\n",
    "import numpy as np\n",
    "import matplotlib.pyplot as plt\n",
    "from pathlib import Path\n",
    "\n",
    "# Try common repo-relative paths\n",
    "paths = [Path('../data/raw/tourism_data.csv'), Path('./data/raw/tourism_data.csv'), Path('data/raw/tourism_data.csv')]\n",
    "csv_path = None\n",
    "for p in paths:\n",
    "    if p.exists():\n",
    "        csv_path = p\n",
    "        break\n",
    "\n",
    "if csv_path is None:\n",
    "    raise FileNotFoundError(\"Could not find 'tourism_data.csv'. Please place it in data/raw/ and re-run.\")\n",
    "\n",
    "df = pd.read_csv(csv_path)\n",
    "# Create a monthly date index\n",
    "df['date'] = pd.to_datetime(df['year'].astype(str) + '-' + df['month'].astype(str) + '-01')\n",
    "df = df.sort_values('date').reset_index(drop=True)\n",
    "\n",
    "# Quick sanity check\n",
    "display(df.head())\n",
    "print(\"Data range:\", df['date'].min().date(), \"to\", df['date'].max().date())\n"
   ]
  },
  {
   "cell_type": "markdown",
   "metadata": {},
   "source": [
    "## 2) Feature Preparation"
   ]
  },
  {
   "cell_type": "code",
   "execution_count": 2,
   "metadata": {},
   "outputs": [
    {
     "data": {
      "text/html": [
       "<div>\n",
       "<style scoped>\n",
       "    .dataframe tbody tr th:only-of-type {\n",
       "        vertical-align: middle;\n",
       "    }\n",
       "\n",
       "    .dataframe tbody tr th {\n",
       "        vertical-align: top;\n",
       "    }\n",
       "\n",
       "    .dataframe thead th {\n",
       "        text-align: right;\n",
       "    }\n",
       "</style>\n",
       "<table border=\"1\" class=\"dataframe\">\n",
       "  <thead>\n",
       "    <tr style=\"text-align: right;\">\n",
       "      <th></th>\n",
       "      <th>month</th>\n",
       "      <th>tourist_arrivals</th>\n",
       "      <th>avg_stay</th>\n",
       "      <th>avg_daily_spend</th>\n",
       "      <th>date_2025</th>\n",
       "    </tr>\n",
       "  </thead>\n",
       "  <tbody>\n",
       "    <tr>\n",
       "      <th>0</th>\n",
       "      <td>1</td>\n",
       "      <td>208000</td>\n",
       "      <td>9.3</td>\n",
       "      <td>145</td>\n",
       "      <td>2025-01-01</td>\n",
       "    </tr>\n",
       "    <tr>\n",
       "      <th>1</th>\n",
       "      <td>2</td>\n",
       "      <td>218000</td>\n",
       "      <td>9.4</td>\n",
       "      <td>145</td>\n",
       "      <td>2025-02-01</td>\n",
       "    </tr>\n",
       "    <tr>\n",
       "      <th>2</th>\n",
       "      <td>3</td>\n",
       "      <td>209000</td>\n",
       "      <td>9.4</td>\n",
       "      <td>145</td>\n",
       "      <td>2025-03-01</td>\n",
       "    </tr>\n",
       "    <tr>\n",
       "      <th>3</th>\n",
       "      <td>4</td>\n",
       "      <td>149000</td>\n",
       "      <td>8.7</td>\n",
       "      <td>140</td>\n",
       "      <td>2025-04-01</td>\n",
       "    </tr>\n",
       "    <tr>\n",
       "      <th>4</th>\n",
       "      <td>5</td>\n",
       "      <td>112000</td>\n",
       "      <td>8.2</td>\n",
       "      <td>138</td>\n",
       "      <td>2025-05-01</td>\n",
       "    </tr>\n",
       "  </tbody>\n",
       "</table>\n",
       "</div>"
      ],
      "text/plain": [
       "   month  tourist_arrivals  avg_stay  avg_daily_spend  date_2025\n",
       "0      1            208000       9.3              145 2025-01-01\n",
       "1      2            218000       9.4              145 2025-02-01\n",
       "2      3            209000       9.4              145 2025-03-01\n",
       "3      4            149000       8.7              140 2025-04-01\n",
       "4      5            112000       8.2              138 2025-05-01"
      ]
     },
     "metadata": {},
     "output_type": "display_data"
    }
   ],
   "source": [
    "\n",
    "# Ensure numeric dtypes\n",
    "for col in ['tourist_arrivals','tourism_revenue_usd','avg_stay','avg_daily_spend']:\n",
    "    df[col] = pd.to_numeric(df[col], errors='coerce')\n",
    "\n",
    "# Extract the latest full year (2024) as baseline for 2025\n",
    "base_2024 = df[df['year'] == 2024].copy()\n",
    "if base_2024.empty or base_2024.shape[0] < 12:\n",
    "    raise ValueError(\"Expected 12 months for 2024 as the baseline for 2025. Please verify the dataset.\")\n",
    "\n",
    "base_2024 = base_2024.sort_values('month').reset_index(drop=True)\n",
    "base_2024['date_2025'] = base_2024['date'] + pd.DateOffset(years=1)\n",
    "\n",
    "# We'll model revenue = arrivals * avg_stay * avg_daily_spend under stochastic shocks\n",
    "base_2024 = base_2024[['month','tourist_arrivals','avg_stay','avg_daily_spend','date_2025']]\n",
    "display(base_2024.head())\n"
   ]
  },
  {
   "cell_type": "markdown",
   "metadata": {},
   "source": [
    "## 3) Scenario Design\n",
    "\n",
    "We construct three **high-level scenarios** for 2025 and then embed **uncertainty** via Monte Carlo:\n",
    "\n",
    "- **Pessimistic**: Softer global demand / shocks to travel  \n",
    "  - Arrivals mean drift: **-8%**\n",
    "  - Average stay drift: **-2%**\n",
    "  - Daily spend drift: **-5%**\n",
    "\n",
    "- **Baseline**: Continuation of 2024 patterns (no drift)  \n",
    "  - Arrivals mean drift: **0%**\n",
    "  - Average stay drift: **0%**\n",
    "  - Daily spend drift: **0%**\n",
    "\n",
    "- **Optimistic**: Strong demand & successful tourism initiatives  \n",
    "  - Arrivals mean drift: **+8%**\n",
    "  - Average stay drift: **+2%**\n",
    "  - Daily spend drift: **+5%**\n",
    "\n",
    "**Uncertainty (standard deviations)** applied multiplicatively each month:\n",
    "- Arrivals **±10%**, Avg stay **±3%**, Daily spend **±5%**.\n",
    "\n",
    "> All shocks are drawn from normal distributions and applied multiplicatively (truncated to avoid negative values).\n"
   ]
  },
  {
   "cell_type": "markdown",
   "metadata": {},
   "source": [
    "## 4) Monte Carlo Simulation of 2025 Revenue"
   ]
  },
  {
   "cell_type": "code",
   "execution_count": 3,
   "metadata": {},
   "outputs": [
    {
     "data": {
      "text/html": [
       "<div>\n",
       "<style scoped>\n",
       "    .dataframe tbody tr th:only-of-type {\n",
       "        vertical-align: middle;\n",
       "    }\n",
       "\n",
       "    .dataframe tbody tr th {\n",
       "        vertical-align: top;\n",
       "    }\n",
       "\n",
       "    .dataframe thead th {\n",
       "        text-align: right;\n",
       "    }\n",
       "</style>\n",
       "<table border=\"1\" class=\"dataframe\">\n",
       "  <thead>\n",
       "    <tr style=\"text-align: right;\">\n",
       "      <th></th>\n",
       "      <th>Scenario</th>\n",
       "      <th>Mean_Annual_Revenue_USD</th>\n",
       "      <th>P10</th>\n",
       "      <th>P50</th>\n",
       "      <th>P90</th>\n",
       "      <th>VaR_5pct</th>\n",
       "      <th>CVaR_5pct</th>\n",
       "    </tr>\n",
       "  </thead>\n",
       "  <tbody>\n",
       "    <tr>\n",
       "      <th>1</th>\n",
       "      <td>Baseline</td>\n",
       "      <td>2.665797e+09</td>\n",
       "      <td>2.546130e+09</td>\n",
       "      <td>2.665363e+09</td>\n",
       "      <td>2.785705e+09</td>\n",
       "      <td>2.511072e+09</td>\n",
       "      <td>2.474868e+09</td>\n",
       "    </tr>\n",
       "    <tr>\n",
       "      <th>2</th>\n",
       "      <td>Optimistic</td>\n",
       "      <td>3.085758e+09</td>\n",
       "      <td>2.947121e+09</td>\n",
       "      <td>3.084405e+09</td>\n",
       "      <td>3.225148e+09</td>\n",
       "      <td>2.908402e+09</td>\n",
       "      <td>2.867204e+09</td>\n",
       "    </tr>\n",
       "    <tr>\n",
       "      <th>0</th>\n",
       "      <td>Pessimistic</td>\n",
       "      <td>2.283030e+09</td>\n",
       "      <td>2.180524e+09</td>\n",
       "      <td>2.283006e+09</td>\n",
       "      <td>2.384922e+09</td>\n",
       "      <td>2.153138e+09</td>\n",
       "      <td>2.122887e+09</td>\n",
       "    </tr>\n",
       "  </tbody>\n",
       "</table>\n",
       "</div>"
      ],
      "text/plain": [
       "      Scenario  Mean_Annual_Revenue_USD           P10           P50  \\\n",
       "1     Baseline             2.665797e+09  2.546130e+09  2.665363e+09   \n",
       "2   Optimistic             3.085758e+09  2.947121e+09  3.084405e+09   \n",
       "0  Pessimistic             2.283030e+09  2.180524e+09  2.283006e+09   \n",
       "\n",
       "            P90      VaR_5pct     CVaR_5pct  \n",
       "1  2.785705e+09  2.511072e+09  2.474868e+09  \n",
       "2  3.225148e+09  2.908402e+09  2.867204e+09  \n",
       "0  2.384922e+09  2.153138e+09  2.122887e+09  "
      ]
     },
     "execution_count": 3,
     "metadata": {},
     "output_type": "execute_result"
    }
   ],
   "source": [
    "\n",
    "rng = np.random.default_rng(42)\n",
    "\n",
    "def simulate_year(baseline_df, drift_arr=0.0, drift_stay=0.0, drift_spend=0.0, \n",
    "                  sd_arr=0.10, sd_stay=0.03, sd_spend=0.05, n_sims=10000):\n",
    "    # Arrays for baseline\n",
    "    arr = baseline_df['tourist_arrivals'].values.astype(float)\n",
    "    stay = baseline_df['avg_stay'].values.astype(float)\n",
    "    spend = baseline_df['avg_daily_spend'].values.astype(float)\n",
    "    \n",
    "    # Apply mean drift multiplicatively\n",
    "    arr_mean = arr * (1 + drift_arr)\n",
    "    stay_mean = stay * (1 + drift_stay)\n",
    "    spend_mean = spend * (1 + drift_spend)\n",
    "    \n",
    "    # Draw shocks\n",
    "    arr_shock = rng.normal(1.0, sd_arr, size=(n_sims, len(arr)))\n",
    "    stay_shock = rng.normal(1.0, sd_stay, size=(n_sims, len(stay)))\n",
    "    spend_shock = rng.normal(1.0, sd_spend, size=(n_sims, len(spend)))\n",
    "    \n",
    "    # Truncate to avoid negatives\n",
    "    arr_shock = np.clip(arr_shock, 0.5, 1.5)\n",
    "    stay_shock = np.clip(stay_shock, 0.7, 1.3)\n",
    "    spend_shock = np.clip(spend_shock, 0.7, 1.3)\n",
    "    \n",
    "    # Simulated monthly values\n",
    "    sim_arr = arr_mean * arr_shock\n",
    "    sim_stay = stay_mean * stay_shock\n",
    "    sim_spend = spend_mean * spend_shock\n",
    "    \n",
    "    # Revenue per month and annual\n",
    "    sim_month_rev = sim_arr * sim_stay * sim_spend\n",
    "    sim_annual_rev = sim_month_rev.sum(axis=1)\n",
    "    return sim_annual_rev, sim_month_rev\n",
    "\n",
    "scenarios = {\n",
    "    \"Pessimistic\": {\"drift_arr\":-0.08, \"drift_stay\":-0.02, \"drift_spend\":-0.05},\n",
    "    \"Baseline\":    {\"drift_arr\": 0.00, \"drift_stay\": 0.00, \"drift_spend\": 0.00},\n",
    "    \"Optimistic\":  {\"drift_arr\": 0.08, \"drift_stay\": 0.02, \"drift_spend\": 0.05},\n",
    "}\n",
    "\n",
    "results = {}\n",
    "for name, params in scenarios.items():\n",
    "    total, monthly = simulate_year(base_2024, **params, n_sims=10000)\n",
    "    results[name] = {\"annual\": total, \"monthly\": monthly}\n",
    "\n",
    "# Summary statistics\n",
    "summary = []\n",
    "for name, res in results.items():\n",
    "    annual = res[\"annual\"]\n",
    "    summary.append({\n",
    "        \"Scenario\": name,\n",
    "        \"Mean_Annual_Revenue_USD\": annual.mean(),\n",
    "        \"P10\": np.percentile(annual, 10),\n",
    "        \"P50\": np.percentile(annual, 50),\n",
    "        \"P90\": np.percentile(annual, 90),\n",
    "        \"VaR_5pct\": np.percentile(annual, 5),\n",
    "        \"CVaR_5pct\": annual[annual <= np.percentile(annual, 5)].mean()\n",
    "    })\n",
    "summary_df = pd.DataFrame(summary).sort_values(\"Scenario\")\n",
    "summary_df\n"
   ]
  },
  {
   "cell_type": "markdown",
   "metadata": {},
   "source": [
    "## 5) Visualizations — Annual Revenue Distribution (2025)"
   ]
  },
  {
   "cell_type": "code",
   "execution_count": 4,
   "metadata": {},
   "outputs": [
    {
     "data": {
      "image/png": "[encoded data removed]",
      "text/plain": [
       "<Figure size 900x500 with 1 Axes>"
      ]
     },
     "metadata": {},
     "output_type": "display_data"
    },
    {
     "data": {
      "image/png": "[encoded data removed]",
      "text/plain": [
       "<Figure size 900x500 with 1 Axes>"
      ]
     },
     "metadata": {},
     "output_type": "display_data"
    },
    {
     "data": {
      "image/png": "[encoded data removed]",
      "text/plain": [
       "<Figure size 900x500 with 1 Axes>"
      ]
     },
     "metadata": {},
     "output_type": "display_data"
    }
   ],
   "source": [
    "\n",
    "# Histogram per scenario (separate figures to comply with single-plot rule)\n",
    "for name, res in results.items():\n",
    "    plt.figure(figsize=(9,5))\n",
    "    plt.hist(res[\"annual\"]/1e9, bins=40, alpha=0.8)\n",
    "    plt.title(f\"Simulated Annual Tourism Revenue 2025 — {name}\")\n",
    "    plt.xlabel(\"Revenue (USD Billions)\")\n",
    "    plt.ylabel(\"Frequency\")\n",
    "    plt.show()\n"
   ]
  },
  {
   "cell_type": "markdown",
   "metadata": {},
   "source": [
    "## 6) Sensitivity Analysis — Which Drivers Matter Most?\n",
    "\n",
    "We fit an **OLS regression** on 2015–2024 to approximate how strongly each driver explains revenue.\n",
    "We then interpret standardized coefficients to gauge **relative importance**.\n"
   ]
  },
  {
   "cell_type": "code",
   "execution_count": 5,
   "metadata": {},
   "outputs": [
    {
     "name": "stdout",
     "output_type": "stream",
     "text": [
      "                             OLS Regression Results                            \n",
      "===============================================================================\n",
      "Dep. Variable:     tourism_revenue_usd   R-squared:                       0.938\n",
      "Model:                             OLS   Adj. R-squared:                  0.937\n",
      "Method:                  Least Squares   F-statistic:                     589.6\n",
      "Date:                 Wed, 03 Sep 2025   Prob (F-statistic):           4.95e-70\n",
      "Time:                         22:44:54   Log-Likelihood:                -2271.3\n",
      "No. Observations:                  120   AIC:                             4551.\n",
      "Df Residuals:                      116   BIC:                             4562.\n",
      "Df Model:                            3                                         \n",
      "Covariance Type:             nonrobust                                         \n",
      "====================================================================================\n",
      "                       coef    std err          t      P>|t|      [0.025      0.975]\n",
      "------------------------------------------------------------------------------------\n",
      "const              2.87e+08   3.73e+06     76.943      0.000     2.8e+08    2.94e+08\n",
      "tourist_arrivals  1.693e+08   5.82e+06     29.100      0.000    1.58e+08    1.81e+08\n",
      "avg_stay          1.415e+08   1.76e+07      8.049      0.000    1.07e+08    1.76e+08\n",
      "avg_daily_spend  -1.556e+08   1.86e+07     -8.355      0.000   -1.93e+08   -1.19e+08\n",
      "==============================================================================\n",
      "Omnibus:                       18.963   Durbin-Watson:                   0.397\n",
      "Prob(Omnibus):                  0.000   Jarque-Bera (JB):               22.503\n",
      "Skew:                           0.953   Prob(JB):                     1.30e-05\n",
      "Kurtosis:                       3.932   Cond. No.                         11.1\n",
      "==============================================================================\n",
      "\n",
      "Notes:\n",
      "[1] Standard Errors assume that the covariance matrix of the errors is correctly specified.\n"
     ]
    }
   ],
   "source": [
    "\n",
    "import statsmodels.api as sm\n",
    "\n",
    "hist = df[(df['year'] >= 2015) & (df['year'] <= 2024)].copy()\n",
    "\n",
    "# Prepare features and target\n",
    "X = hist[['tourist_arrivals','avg_stay','avg_daily_spend']].copy()\n",
    "y = hist['tourism_revenue_usd'].copy()\n",
    "\n",
    "# Standardize features for comparability of coefficients\n",
    "X_std = (X - X.mean()) / X.std(ddof=0)\n",
    "X_std = sm.add_constant(X_std)\n",
    "model = sm.OLS(y, X_std).fit()\n",
    "print(model.summary())\n"
   ]
  },
  {
   "cell_type": "code",
   "execution_count": 6,
   "metadata": {},
   "outputs": [
    {
     "data": {
      "image/png": "[encoded data removed]",
      "text/plain": [
       "<Figure size 700x400 with 1 Axes>"
      ]
     },
     "metadata": {},
     "output_type": "display_data"
    }
   ],
   "source": [
    "\n",
    "coefs = model.params.drop('const')\n",
    "imp = coefs.abs().sort_values(ascending=True)\n",
    "\n",
    "plt.figure(figsize=(7,4))\n",
    "plt.barh(imp.index, imp.values)\n",
    "plt.title(\"Relative Importance (|Standardized Coefficients|)\")\n",
    "plt.xlabel(\"Absolute Standardized Coefficient\")\n",
    "plt.ylabel(\"Predictor\")\n",
    "plt.show()\n"
   ]
  },
  {
   "cell_type": "markdown",
   "metadata": {},
   "source": [
    "## 7) Scenario Summary & Interpretation"
   ]
  },
  {
   "cell_type": "code",
   "execution_count": 7,
   "metadata": {},
   "outputs": [
    {
     "data": {
      "text/html": [
       "<div>\n",
       "<style scoped>\n",
       "    .dataframe tbody tr th:only-of-type {\n",
       "        vertical-align: middle;\n",
       "    }\n",
       "\n",
       "    .dataframe tbody tr th {\n",
       "        vertical-align: top;\n",
       "    }\n",
       "\n",
       "    .dataframe thead th {\n",
       "        text-align: right;\n",
       "    }\n",
       "</style>\n",
       "<table border=\"1\" class=\"dataframe\">\n",
       "  <thead>\n",
       "    <tr style=\"text-align: right;\">\n",
       "      <th></th>\n",
       "      <th>Scenario</th>\n",
       "      <th>Mean (USD Bn)</th>\n",
       "      <th>P10 (USD Bn)</th>\n",
       "      <th>Median (USD Bn)</th>\n",
       "      <th>P90 (USD Bn)</th>\n",
       "      <th>VaR 5% (USD Bn)</th>\n",
       "      <th>CVaR 5% (USD Bn)</th>\n",
       "    </tr>\n",
       "  </thead>\n",
       "  <tbody>\n",
       "    <tr>\n",
       "      <th>1</th>\n",
       "      <td>Baseline</td>\n",
       "      <td>2.665797</td>\n",
       "      <td>2.546130</td>\n",
       "      <td>2.665363</td>\n",
       "      <td>2.785705</td>\n",
       "      <td>2.511072</td>\n",
       "      <td>2.474868</td>\n",
       "    </tr>\n",
       "    <tr>\n",
       "      <th>2</th>\n",
       "      <td>Optimistic</td>\n",
       "      <td>3.085758</td>\n",
       "      <td>2.947121</td>\n",
       "      <td>3.084405</td>\n",
       "      <td>3.225148</td>\n",
       "      <td>2.908402</td>\n",
       "      <td>2.867204</td>\n",
       "    </tr>\n",
       "    <tr>\n",
       "      <th>0</th>\n",
       "      <td>Pessimistic</td>\n",
       "      <td>2.283030</td>\n",
       "      <td>2.180524</td>\n",
       "      <td>2.283006</td>\n",
       "      <td>2.384922</td>\n",
       "      <td>2.153138</td>\n",
       "      <td>2.122887</td>\n",
       "    </tr>\n",
       "  </tbody>\n",
       "</table>\n",
       "</div>"
      ],
      "text/plain": [
       "      Scenario  Mean (USD Bn)  P10 (USD Bn)  Median (USD Bn)  P90 (USD Bn)  \\\n",
       "1     Baseline       2.665797      2.546130         2.665363      2.785705   \n",
       "2   Optimistic       3.085758      2.947121         3.084405      3.225148   \n",
       "0  Pessimistic       2.283030      2.180524         2.283006      2.384922   \n",
       "\n",
       "   VaR 5% (USD Bn)  CVaR 5% (USD Bn)  \n",
       "1         2.511072          2.474868  \n",
       "2         2.908402          2.867204  \n",
       "0         2.153138          2.122887  "
      ]
     },
     "execution_count": 7,
     "metadata": {},
     "output_type": "execute_result"
    }
   ],
   "source": [
    "\n",
    "# Present scenario summary in a readable table (billions)\n",
    "table = summary_df.copy()\n",
    "for c in [\"Mean_Annual_Revenue_USD\",\"P10\",\"P50\",\"P90\",\"VaR_5pct\",\"CVaR_5pct\"]:\n",
    "    table[c] = table[c] / 1e9\n",
    "table = table.rename(columns={\n",
    "    \"Mean_Annual_Revenue_USD\":\"Mean (USD Bn)\",\n",
    "    \"P10\":\"P10 (USD Bn)\",\n",
    "    \"P50\":\"Median (USD Bn)\",\n",
    "    \"P90\":\"P90 (USD Bn)\",\n",
    "    \"VaR_5pct\":\"VaR 5% (USD Bn)\",\n",
    "    \"CVaR_5pct\":\"CVaR 5% (USD Bn)\"\n",
    "}).sort_values(\"Scenario\")\n",
    "table\n"
   ]
  },
  {
   "cell_type": "markdown",
   "metadata": {},
   "source": [
    "## 8) Economic Implications (Qualitative)\n",
    "\n",
    "Tourism is a key foreign-earnings channel. Changes in tourism revenue can ripple through:\n",
    "- **Foreign exchange inflows:** Lower revenue worsens FX supply, potentially pressuring the currency and import capacity.\n",
    "- **Employment & SMEs:** Hotels, transport, guides, restaurants, and informal sector incomes are sensitive to arrivals.\n",
    "- **Government revenues:** VAT, service charges, and sector taxes co-move with activity.\n",
    "- **Investment sentiment:** Sustained downturns can delay private investment in accommodation and attractions.\n",
    "\n",
    "**Interpreting the scenarios:**\n",
    "- **Pessimistic:** FX inflows weaken; risk of tighter external balances. SMEs face cashflow stress; government revenues soften.\n",
    "- **Baseline:** Stable conditions; manageable external and fiscal impact.\n",
    "- **Optimistic:** Strong inflows; improved FX buffers and fiscal space; room to invest in infrastructure and marketing.\n",
    "\n",
    "> Use the scenario table to discuss ranges rather than single-point forecasts.\n"
   ]
  },
  {
   "cell_type": "markdown",
   "metadata": {},
   "source": [
    "## 9) Policy Precautions & Mitigations\n",
    "\n",
    "1. **Market Diversification:** Reduce concentration risk by targeting multiple source markets and segments (culture, wellness, eco, MICE).\n",
    "2. **Visa & ETA Facilitation:** Streamlined entry (e-visa/ETA) and on-arrival clarity to prevent friction in peak seasons.\n",
    "3. **Price-Value Balance:** Encourage transparent, competitive pricing to protect spend-per-visitor without deterring demand.\n",
    "4. **Experience & Safety Signals:** Reliable transport, clean sites, and safety communications to sustain confidence.\n",
    "5. **SME Support & Working Capital:** Targeted credit lines / guarantees for high-season prep; promote digital bookings.\n",
    "6. **Resilient Infrastructure:** Address choke points (air connectivity, last-mile transport, energy/water at hotspots).\n",
    "7. **Data & Early Warning:** Monthly dashboards; track bookings, search trends, and cancellations to trigger timely responses.\n",
    "8. **FX Risk Management:** Encourage sector hedging practices for large operators; promote local supply linkages to reduce import leakage.\n"
   ]
  },
  {
   "cell_type": "markdown",
   "metadata": {},
   "source": [
    "## 10) Conclusions\n",
    "\n",
    "- **Risk ranges**: The distributions show plausible upside and downside around 2025 revenue.\n",
    "- **Key drivers**: Regression sensitivity indicates which levers (arrivals, stay, spend) most affect outcomes.\n",
    "- **Actionability**: Policies that raise **spend-per-visitor** and **length-of-stay** can amplify revenue without over-relying on volumes.\n",
    "- **Next steps**: Stress-test additional shocks (energy price spikes, global slowdown), incorporate external indicators (exchange rates, flight capacity), and update scenarios quarterly with fresh data.\n"
   ]
  }
 ],
 "metadata": {
  "kernelspec": {
   "display_name": "Python 3",
   "language": "python",
   "name": "python3"
  },
  "language_info": {
   "codemirror_mode": {
    "name": "ipython",
    "version": 3
   },
   "file_extension": ".py",
   "mimetype": "text/x-python",
   "name": "python",
   "nbconvert_exporter": "python",
   "pygments_lexer": "ipython3",
   "version": "3.13.3"
  }
 },
 "nbformat": 4,
 "nbformat_minor": 5
}
